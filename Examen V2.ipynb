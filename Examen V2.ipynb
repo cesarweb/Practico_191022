{
  "cells": [
    {
      "cell_type": "markdown",
      "metadata": {
        "id": "-UNQGOujuEH6"
      },
      "source": [
        "![imagen.png](attachment:imagen.png)"
      ]
    },
    {
      "cell_type": "markdown",
      "metadata": {
        "id": "Pii01kEAuEH-"
      },
      "source": [
        "<a href=\"https://colab.research.google.com/github/joanby/python-ml-course/blob/master/notebooks/T10%20-%201%20-%20Analisis%20de%20Componentes%20Principales-Colab.ipynb\" target=\"_parent\"><img src=\"https://colab.research.google.com/assets/colab-badge.svg\" alt=\"Open In Colab\"/></a>"
      ]
    },
    {
      "cell_type": "markdown",
      "metadata": {
        "id": "BIBvjqi2uEH-"
      },
      "source": [
        "# Consignas:\n",
        "# Analizar y resolver\n",
        "# # Subir a repositorio de Github, con al menos un pull request, y devolver el link\n",
        "\n",
        "# Hacer un fork de este repositorio y trabajar sobre ese archivo\n",
        "\n",
        "\n",
        "1- Generar un set de datos, con al menos 4 predictores\n",
        "\n",
        "2- Dado el siguiente código indicar que tipo de problema instanta resolver. \n",
        "\n",
        "3- Evaluar los resultados.\n",
        "\n",
        "4- Agregar otro algoritmo para resolver sobre el mismo set de datos.\n"
      ]
    },
    {
      "cell_type": "code",
      "execution_count": 1,
      "metadata": {
        "id": "1fEv0MSjuEH_"
      },
      "outputs": [],
      "source": [
        "# Tratamiento de datos\n",
        "# ==============================================================================\n",
        "\n",
        "# Gráficos\n",
        "# ==============================================================================\n",
        "\n",
        "# Preprocesado y modelado\n",
        "# ==============================================================================\n",
        "\n",
        "# Configuración matplotlib\n",
        "# ==============================================================================\n",
        "\n",
        "# Configuración warnings\n",
        "# ==============================================================================\n"
      ]
    },
    {
      "cell_type": "markdown",
      "metadata": {
        "id": "aQ6RV4PZuEIA"
      },
      "source": [
        "# Para generar los datos usaremos las funciones provistas en sklearn\n",
        "\n",
        "sklearn.datasets: Datasets\n"
      ]
    },
    {
      "cell_type": "code",
      "execution_count": 2,
      "metadata": {
        "colab": {
          "base_uri": "https://localhost:8080/",
          "height": 206
        },
        "id": "-QxWCMgLuEIB",
        "outputId": "85d59db4-aaf0-4b6b-efb8-10800c6f7400"
      },
      "outputs": [
        {
          "output_type": "execute_result",
          "data": {
            "text/plain": [
              "   sepal length (cm)  sepal width (cm)  petal length (cm)  petal width (cm)  \\\n",
              "0                5.1               3.5                1.4               0.2   \n",
              "1                4.9               3.0                1.4               0.2   \n",
              "2                4.7               3.2                1.3               0.2   \n",
              "3                4.6               3.1                1.5               0.2   \n",
              "4                5.0               3.6                1.4               0.2   \n",
              "\n",
              "     y  \n",
              "0  0.0  \n",
              "1  0.0  \n",
              "2  0.0  \n",
              "3  0.0  \n",
              "4  0.0  "
            ],
            "text/html": [
              "\n",
              "  <div id=\"df-4e97f1e8-0b5e-4444-b72b-f10d2fbe5be0\">\n",
              "    <div class=\"colab-df-container\">\n",
              "      <div>\n",
              "<style scoped>\n",
              "    .dataframe tbody tr th:only-of-type {\n",
              "        vertical-align: middle;\n",
              "    }\n",
              "\n",
              "    .dataframe tbody tr th {\n",
              "        vertical-align: top;\n",
              "    }\n",
              "\n",
              "    .dataframe thead th {\n",
              "        text-align: right;\n",
              "    }\n",
              "</style>\n",
              "<table border=\"1\" class=\"dataframe\">\n",
              "  <thead>\n",
              "    <tr style=\"text-align: right;\">\n",
              "      <th></th>\n",
              "      <th>sepal length (cm)</th>\n",
              "      <th>sepal width (cm)</th>\n",
              "      <th>petal length (cm)</th>\n",
              "      <th>petal width (cm)</th>\n",
              "      <th>y</th>\n",
              "    </tr>\n",
              "  </thead>\n",
              "  <tbody>\n",
              "    <tr>\n",
              "      <th>0</th>\n",
              "      <td>5.1</td>\n",
              "      <td>3.5</td>\n",
              "      <td>1.4</td>\n",
              "      <td>0.2</td>\n",
              "      <td>0.0</td>\n",
              "    </tr>\n",
              "    <tr>\n",
              "      <th>1</th>\n",
              "      <td>4.9</td>\n",
              "      <td>3.0</td>\n",
              "      <td>1.4</td>\n",
              "      <td>0.2</td>\n",
              "      <td>0.0</td>\n",
              "    </tr>\n",
              "    <tr>\n",
              "      <th>2</th>\n",
              "      <td>4.7</td>\n",
              "      <td>3.2</td>\n",
              "      <td>1.3</td>\n",
              "      <td>0.2</td>\n",
              "      <td>0.0</td>\n",
              "    </tr>\n",
              "    <tr>\n",
              "      <th>3</th>\n",
              "      <td>4.6</td>\n",
              "      <td>3.1</td>\n",
              "      <td>1.5</td>\n",
              "      <td>0.2</td>\n",
              "      <td>0.0</td>\n",
              "    </tr>\n",
              "    <tr>\n",
              "      <th>4</th>\n",
              "      <td>5.0</td>\n",
              "      <td>3.6</td>\n",
              "      <td>1.4</td>\n",
              "      <td>0.2</td>\n",
              "      <td>0.0</td>\n",
              "    </tr>\n",
              "  </tbody>\n",
              "</table>\n",
              "</div>\n",
              "      <button class=\"colab-df-convert\" onclick=\"convertToInteractive('df-4e97f1e8-0b5e-4444-b72b-f10d2fbe5be0')\"\n",
              "              title=\"Convert this dataframe to an interactive table.\"\n",
              "              style=\"display:none;\">\n",
              "        \n",
              "  <svg xmlns=\"http://www.w3.org/2000/svg\" height=\"24px\"viewBox=\"0 0 24 24\"\n",
              "       width=\"24px\">\n",
              "    <path d=\"M0 0h24v24H0V0z\" fill=\"none\"/>\n",
              "    <path d=\"M18.56 5.44l.94 2.06.94-2.06 2.06-.94-2.06-.94-.94-2.06-.94 2.06-2.06.94zm-11 1L8.5 8.5l.94-2.06 2.06-.94-2.06-.94L8.5 2.5l-.94 2.06-2.06.94zm10 10l.94 2.06.94-2.06 2.06-.94-2.06-.94-.94-2.06-.94 2.06-2.06.94z\"/><path d=\"M17.41 7.96l-1.37-1.37c-.4-.4-.92-.59-1.43-.59-.52 0-1.04.2-1.43.59L10.3 9.45l-7.72 7.72c-.78.78-.78 2.05 0 2.83L4 21.41c.39.39.9.59 1.41.59.51 0 1.02-.2 1.41-.59l7.78-7.78 2.81-2.81c.8-.78.8-2.07 0-2.86zM5.41 20L4 18.59l7.72-7.72 1.47 1.35L5.41 20z\"/>\n",
              "  </svg>\n",
              "      </button>\n",
              "      \n",
              "  <style>\n",
              "    .colab-df-container {\n",
              "      display:flex;\n",
              "      flex-wrap:wrap;\n",
              "      gap: 12px;\n",
              "    }\n",
              "\n",
              "    .colab-df-convert {\n",
              "      background-color: #E8F0FE;\n",
              "      border: none;\n",
              "      border-radius: 50%;\n",
              "      cursor: pointer;\n",
              "      display: none;\n",
              "      fill: #1967D2;\n",
              "      height: 32px;\n",
              "      padding: 0 0 0 0;\n",
              "      width: 32px;\n",
              "    }\n",
              "\n",
              "    .colab-df-convert:hover {\n",
              "      background-color: #E2EBFA;\n",
              "      box-shadow: 0px 1px 2px rgba(60, 64, 67, 0.3), 0px 1px 3px 1px rgba(60, 64, 67, 0.15);\n",
              "      fill: #174EA6;\n",
              "    }\n",
              "\n",
              "    [theme=dark] .colab-df-convert {\n",
              "      background-color: #3B4455;\n",
              "      fill: #D2E3FC;\n",
              "    }\n",
              "\n",
              "    [theme=dark] .colab-df-convert:hover {\n",
              "      background-color: #434B5C;\n",
              "      box-shadow: 0px 1px 3px 1px rgba(0, 0, 0, 0.15);\n",
              "      filter: drop-shadow(0px 1px 2px rgba(0, 0, 0, 0.3));\n",
              "      fill: #FFFFFF;\n",
              "    }\n",
              "  </style>\n",
              "\n",
              "      <script>\n",
              "        const buttonEl =\n",
              "          document.querySelector('#df-4e97f1e8-0b5e-4444-b72b-f10d2fbe5be0 button.colab-df-convert');\n",
              "        buttonEl.style.display =\n",
              "          google.colab.kernel.accessAllowed ? 'block' : 'none';\n",
              "\n",
              "        async function convertToInteractive(key) {\n",
              "          const element = document.querySelector('#df-4e97f1e8-0b5e-4444-b72b-f10d2fbe5be0');\n",
              "          const dataTable =\n",
              "            await google.colab.kernel.invokeFunction('convertToInteractive',\n",
              "                                                     [key], {});\n",
              "          if (!dataTable) return;\n",
              "\n",
              "          const docLinkHtml = 'Like what you see? Visit the ' +\n",
              "            '<a target=\"_blank\" href=https://colab.research.google.com/notebooks/data_table.ipynb>data table notebook</a>'\n",
              "            + ' to learn more about interactive tables.';\n",
              "          element.innerHTML = '';\n",
              "          dataTable['output_type'] = 'display_data';\n",
              "          await google.colab.output.renderOutput(dataTable, element);\n",
              "          const docLink = document.createElement('div');\n",
              "          docLink.innerHTML = docLinkHtml;\n",
              "          element.appendChild(docLink);\n",
              "        }\n",
              "      </script>\n",
              "    </div>\n",
              "  </div>\n",
              "  "
            ]
          },
          "metadata": {},
          "execution_count": 2
        }
      ],
      "source": [
        "# Datos\n",
        "# ==============================================================================\n",
        "from sklearn import datasets\n",
        "import numpy as np\n",
        "import pandas as pd\n",
        "from sklearn.datasets import load_iris\n",
        "\n",
        "iris = load_iris()\n",
        "\n",
        "\n",
        "# np.c_ is the numpy concatenate function\n",
        "# which is used to concat iris['data'] and iris['target'] arrays \n",
        "# for pandas column argument: concat iris['feature_names'] list\n",
        "# and string list (in this case one string); you can make this anything you'd like..  \n",
        "# the original dataset would probably call this ['Species']\n",
        "\n",
        "datos = pd.DataFrame(data= np.c_[iris['data'], iris['target']], columns= iris['feature_names'] + ['y'])\n",
        "\n",
        "datos.head()\n"
      ]
    },
    {
      "cell_type": "code",
      "execution_count": 3,
      "metadata": {
        "colab": {
          "base_uri": "https://localhost:8080/"
        },
        "id": "e4PoLPBkuEIC",
        "outputId": "f93250e4-3fc9-4233-f72a-b4e3bac26cdc"
      },
      "outputs": [
        {
          "output_type": "execute_result",
          "data": {
            "text/plain": [
              "0       6.5\n",
              "1       6.3\n",
              "2       6.0\n",
              "3       6.1\n",
              "4       6.4\n",
              "       ... \n",
              "145    11.9\n",
              "146    11.3\n",
              "147    11.7\n",
              "148    11.6\n",
              "149    11.0\n",
              "Length: 150, dtype: float64"
            ]
          },
          "metadata": {},
          "execution_count": 3
        }
      ],
      "source": [
        "datos\n",
        "datos['sepal length (cm)'] + datos['petal length (cm)']  "
      ]
    },
    {
      "cell_type": "code",
      "execution_count": 4,
      "metadata": {
        "id": "Kno2ax90uEIC"
      },
      "outputs": [],
      "source": [
        "# División de los datos en train y test\n",
        "# ==============================================================================\n",
        "X = datos.drop(columns = 'y')\n",
        "y = datos['y']\n",
        "\n",
        "#PONER CODIGO AQUI\n",
        "\n",
        "from sklearn.model_selection import train_test_split\n",
        "X_train, X_test, y_train, y_test = train_test_split(X, y, test_size=0.33, random_state=50)\n"
      ]
    },
    {
      "cell_type": "code",
      "execution_count": 5,
      "metadata": {
        "colab": {
          "base_uri": "https://localhost:8080/"
        },
        "id": "Ifs3NoomuEID",
        "outputId": "ffebde51-2689-4d7e-849f-d1f45ea027b3"
      },
      "outputs": [
        {
          "output_type": "execute_result",
          "data": {
            "text/plain": [
              "<bound method NDFrame._add_numeric_operations.<locals>.max of      sepal length (cm)  sepal width (cm)  petal length (cm)  petal width (cm)\n",
              "75                 6.6               3.0                4.4               1.4\n",
              "5                  5.4               3.9                1.7               0.4\n",
              "15                 5.7               4.4                1.5               0.4\n",
              "63                 6.1               2.9                4.7               1.4\n",
              "142                5.8               2.7                5.1               1.9\n",
              "..                 ...               ...                ...               ...\n",
              "70                 5.9               3.2                4.8               1.8\n",
              "132                6.4               2.8                5.6               2.2\n",
              "33                 5.5               4.2                1.4               0.2\n",
              "109                7.2               3.6                6.1               2.5\n",
              "139                6.9               3.1                5.4               2.1\n",
              "\n",
              "[100 rows x 4 columns]>"
            ]
          },
          "metadata": {},
          "execution_count": 5
        }
      ],
      "source": [
        "from sklearn.svm import SVC\n",
        "\n",
        "# Creación del modelo SVM lineal\n",
        "# ==============================================================================\n",
        "modelo = SVC(C = 0.5, kernel = 'linear', random_state=123)\n",
        "\n",
        "#PONER CODIGO AQUI\n",
        "modelo.fit(X_train, y_train)\n",
        "\n",
        "X_train.values\n",
        "\n",
        "dir(X_train)\n",
        "X_train.max"
      ]
    },
    {
      "cell_type": "code",
      "execution_count": 6,
      "metadata": {
        "colab": {
          "base_uri": "https://localhost:8080/",
          "height": 316
        },
        "id": "5LR0Z5EsuEID",
        "outputId": "118c19a3-5699-457a-c5b4-7f72f9225976"
      },
      "outputs": [
        {
          "output_type": "stream",
          "name": "stderr",
          "text": [
            "/usr/local/lib/python3.7/dist-packages/sklearn/base.py:451: UserWarning: X does not have valid feature names, but SVC was fitted with feature names\n",
            "  \"X does not have valid feature names, but\"\n"
          ]
        },
        {
          "output_type": "display_data",
          "data": {
            "text/plain": [
              "<Figure size 432x288 with 1 Axes>"
            ],
            "image/png": "[encoded data removed]"
          },
          "metadata": {
            "needs_background": "light"
          }
        }
      ],
      "source": [
        "import matplotlib.pyplot as plt \n",
        "# Representación gráfica de los límites de clasificación\n",
        "# ==============================================================================\n",
        "# Grid de valores\n",
        "x1 = np.linspace(np.min(X_train['sepal length (cm)']), np.max(X_train['sepal length (cm)']), 50)\n",
        "x2 = np.linspace(np.min(X_train['petal length (cm)']), np.max(X_train['petal length (cm)']), 50)\n",
        "y1 = np.linspace(np.min(X_train['sepal width (cm)']), np.max(X_train['sepal width (cm)']), 50)\n",
        "y2 = np.linspace(np.min(X_train['petal width (cm)']), np.max(X_train['petal width (cm)']), 50)\n",
        "\n",
        "Y1, X1, Y2, X2 = np.meshgrid(y1, x1, y2, x2)\n",
        "grid = np.vstack([X1.ravel(), Y1.ravel(), X2.ravel(), Y2.ravel()]).T\n",
        "\n",
        "# Predicción valores grid\n",
        "pred_grid = modelo.predict(grid)\n",
        "\n",
        "fig, ax = plt.subplots(figsize=(6,4))\n",
        "ax.scatter(grid[:,0], grid[:,1], c=pred_grid, alpha = 0.2)\n",
        "ax.scatter(grid[:,2], grid[:,3], c=pred_grid, alpha = 0.2)\n",
        "ax.scatter(X_train['sepal length (cm)'], X_train['petal length (cm)'], c=y_train, alpha = 1)\n",
        "ax.scatter(X_train['sepal width (cm)'], X_train['petal width (cm)'], c=y_train, alpha = 1)\n",
        "\n",
        "# Vectores soporte\n",
        "ax.scatter(\n",
        "    modelo.support_vectors_[:, 0],\n",
        "    modelo.support_vectors_[:, 1],\n",
        "    s=200, linewidth=1,\n",
        "    facecolors='none', edgecolors='black'\n",
        ")\n",
        "ax.scatter(\n",
        "    modelo.support_vectors_[:, 2],\n",
        "    modelo.support_vectors_[:, 3],\n",
        "    s=200, linewidth=1,\n",
        "    facecolors='none', edgecolors='red'\n",
        ")\n",
        "\n",
        "# Hiperplano de separación\n",
        "# ax.contour(\n",
        "#     X1,\n",
        "#     Y1,\n",
        "#     modelo.decision_function(grid).reshape(X1.shape),\n",
        "#    colors = 'k',\n",
        "#     levels = [-1, 0, 1],\n",
        "#     alpha  = 0.5,\n",
        "#     linestyles = ['--', '-', '--']\n",
        "# )\n",
        "# \n",
        "# ax.contour(\n",
        "#    X2,\n",
        "#     Y2,\n",
        "#     modelo.decision_function(grid).reshape(X2.shape),\n",
        "#     colors = 'k',\n",
        "#     levels = [-1, 0, 1],\n",
        "#     alpha  = 0.5,\n",
        "#     linestyles = ['--', '-', '--']\n",
        "# )\n",
        "\n",
        "ax.set_title(\"Resultados clasificación SVM lineal\");"
      ]
    },
    {
      "cell_type": "code",
      "execution_count": 7,
      "metadata": {
        "colab": {
          "base_uri": "https://localhost:8080/"
        },
        "id": "QhA4cwX8uEIE",
        "outputId": "89d54ddc-3b80-482a-802e-7faa385fdb32"
      },
      "outputs": [
        {
          "output_type": "execute_result",
          "data": {
            "text/plain": [
              "array([1., 2., 0., 0., 2., 2., 2., 0., 0., 1., 0., 2., 0., 2., 1., 0., 1.,\n",
              "       0., 1., 2., 2., 1., 0., 2., 1., 2., 1., 1., 1., 2., 2., 1., 1., 2.,\n",
              "       0., 0., 1., 2., 1., 0., 0., 1., 2., 0., 2., 0., 0., 0., 2., 2.])"
            ]
          },
          "metadata": {},
          "execution_count": 7
        }
      ],
      "source": [
        "# Predicciones test\n",
        "# ==============================================================================\n",
        "\n",
        "predicciones = modelo.predict(X_test)\n",
        "predicciones"
      ]
    },
    {
      "cell_type": "code",
      "execution_count": 8,
      "metadata": {
        "colab": {
          "base_uri": "https://localhost:8080/"
        },
        "id": "agq3uBKcuEIF",
        "outputId": "32611182-bc48-467a-849a-99d80daaf578"
      },
      "outputs": [
        {
          "output_type": "stream",
          "name": "stdout",
          "text": [
            "\n",
            "El accuracy de test es: 96.0%\n"
          ]
        }
      ],
      "source": [
        "# Accuracy de test del modelo \n",
        "# ==============================================================================\n",
        "from sklearn.metrics import accuracy_score\n",
        "accuracy = accuracy_score (y_true = y_test, y_pred = predicciones, normalize = True )\n",
        "\n",
        "print(\"\")\n",
        "print(f\"El accuracy de test es: {100*accuracy}%\")"
      ]
    }
  ],
  "metadata": {
    "kernelspec": {
      "display_name": "Python 3",
      "language": "python",
      "name": "python3"
    },
    "language_info": {
      "codemirror_mode": {
        "name": "ipython",
        "version": 3
      },
      "file_extension": ".py",
      "mimetype": "text/x-python",
      "name": "python",
      "nbconvert_exporter": "python",
      "pygments_lexer": "ipython3",
      "version": "3.7.6"
    },
    "colab": {
      "provenance": [],
      "collapsed_sections": []
    }
  },
  "nbformat": 4,
  "nbformat_minor": 0
}